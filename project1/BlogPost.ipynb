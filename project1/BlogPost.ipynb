{
 "cells": [
  {
   "cell_type": "markdown",
   "metadata": {},
   "source": [
    "### Analysis of Airbnb Bookings: A Seattle usecase\n",
    "\n",
    "\n",
    "![alt text](https://shorttermrentalz.com/wp-content/uploads/2021/02/airbnb_guide.jpg)\n",
    "\n",
    "This post is aiming to having an analysis based on  CRISP-DM approches on Airbnb data of the city of  Seattle. CRISP-DM process are generally defined as:\n",
    "\n",
    "- Business Understanding\n",
    "- Data Understanding\n",
    "- Prepare Data\n",
    "- Data Modeling\n",
    "- Evaluate the Results\n",
    "\n",
    "### Lets start by \n",
    "# **Business Understanding:**\n",
    "\n",
    "# Airbnb: An Overview\n",
    "\n",
    "Airbnb is an online marketplace that connects people who want to rent out their homes with people who are looking for accommodations in that locale. It currently covers more than 100,000 cities and 220 countries worldwide. \n",
    "\n",
    "# Airbnb meaning – What does it stands for?\n",
    "Airbnb stands for Air Bed and Breakfast, a fairly simple meaning. But what’s the Air part all about? You would think it relates to flying up in the air right? Not even close!\n",
    "\n",
    "Back in 2007, cash strapped Joe Gebbia and Brian Chesky were living in San Francisco. Every year a design conference came to town, filling every hotel room he brink. Being savvy entrepreneurs, they thought to themselves “why not rent out our floor space in our lounge room?”.\n",
    "\n",
    "So they went out and purchased 3 air beds. They blew them up and advertised them on their website which they called Airbed and Breakfast. A week later they had their first guests at $80 a night.\n",
    "\n",
    "And, well, we all know what happened next, Airbnb was born!\n",
    "\n",
    "![alt text](https://i2.wp.com/www.lifeasabutterfly.com/wp-content/uploads/how-airbnb-started-infographic.png?fit=1024%2C798&ssl=1)\n",
    "\n",
    "\n",
    "\n",
    "### working in this datasets from Airbnb homes of Seattle, we will explore throughout this notebook the calendar and listings data homes of Seattle\n",
    "\n",
    "Doing this exploration, we are mainly looking for answering follwing questions:\n",
    "\n",
    "\n",
    "- Analyzing Hosts and their profiles\n",
    "- Pricing Analysis\n",
    "- Customer experience analysis"
   ]
  },
  {
   "cell_type": "markdown",
   "metadata": {},
   "source": [
    "# Question 1: What we can understand from host profiles in Seattle?\n",
    "\n",
    "Airbnb Customers instead of traditional hospitality systems of one unique hotel owner dealing with several clients, airbnb clients directly deal with owners. Therefore, understanding profiles of the hosts is of great importance."
   ]
  },
  {
   "cell_type": "markdown",
   "metadata": {},
   "source": [
    "## Number of Hosts and Listings\n",
    "\n",
    "We observe that we have 2751 hosts which by considering the total number of listings, we have the ratio of 1.39% of hosts per listings. One another important factor for understanding the quality of hosts is looking at **superhosts**\n",
    "\n",
    "Airbnb has a program called Superhost, which recognizes the best hosts for their hospitality and give them exclusive rewards. Every 3 months, all the hosts are checked, and if the criteria is met, the host is given the Superhost status. The criteria is:\n",
    "\n",
    "* 4.8 + overall rating;\n",
    "* 10 + stays;\n",
    "* < 1% cancellation rate;\n",
    "* 90% response rate;\n",
    "\n",
    "Looking at data, we observe 537  Super hosts, which is  19.5  % of all hosts"
   ]
  },
  {
   "cell_type": "markdown",
   "metadata": {},
   "source": [
    "Studying the provided data, we obsewrve there are several fields which can be used to better undersand and compare the hosts. Inb the following sections, we take a look at these three properties: Response Rate, Acceptance rate and verification methods.\n",
    "\n",
    "# Response Time\n",
    "\n",
    "This KPI indicates how fast hosts reply to the clients request. Following graph demonstrates distribution of hosts based on response times:\n",
    "\n",
    "\n",
    "![alt text](https://raw.githubusercontent.com/NETspace-GIT/Udacity_DSN/main/project1/responsetime.png)\n",
    "\n",
    "# Response Rate\n",
    "\n",
    "This KPI indicates the rate of hosts reply to all the clients request. Following graph demonstrates distribution of hosts based on response rate:\n",
    "\n",
    "\n",
    "![alt text](https://raw.githubusercontent.com/NETspace-GIT/Udacity_DSN/main/project1/responserate.png)\n",
    "\n",
    "# Verification Methods\n",
    "\n",
    "Study of this KPI demonstrates that which methods are used by users to verify hosts' IDs.We can clearly observe the most common methods in the following chart:\n",
    "\n",
    "![alt text](https://raw.githubusercontent.com/NETspace-GIT/Udacity_DSN/main/project1/verification.png)\n"
   ]
  },
  {
   "cell_type": "markdown",
   "metadata": {},
   "source": [
    "# Question 2: Let's have a look at prices:\n",
    "\n",
    "Do better understand and perform analysis on the prices, initially we need to investigate different available room types that we have and observe priing for each one of these categories. Following graph demonstrates different property types and frequency of their appearances on the listings:\n",
    "\n",
    "![alt text](https://raw.githubusercontent.com/NETspace-GIT/Udacity_DSN/main/project1/propertytypes.png)\n"
   ]
  },
  {
   "cell_type": "markdown",
   "metadata": {},
   "source": [
    "Looking at the property types of the Seattle, we can clearly observe that the majority of the properties are in two categoriez of Houses and Apartements and we can rarly see Yurt of Dorm and even we can see that there are some Tree Houses to rent as Airbnb in Seattle!"
   ]
  },
  {
   "cell_type": "markdown",
   "metadata": {},
   "source": [
    "Now, we can have a look at average prices per each property type. Looking at following prices brings us some intresting facts:\n",
    "\n",
    "![alt text](https://raw.githubusercontent.com/NETspace-GIT/Udacity_DSN/main/project1/prices.png)\n"
   ]
  },
  {
   "cell_type": "markdown",
   "metadata": {},
   "source": [
    "As we can clearly observe, there is a considerable difference between renting a boat and other type of properties. All other properties have similar range of prices, excep Tent and Dorms which are less expensive and aremore based on concept of shared proprties. We may also got surprised finding out that average prices of Condos are higher than House/Townhouses which may can also explain the reason of more popularity of House and TownHouses compared to Condos on the previous graph. \n",
    "\n",
    "Moreover, by analyzing the price distribution, we can observe that price are mostly distrubted in the range of $ 50 to $ 200 per nights per different properties.\n",
    "\n",
    "![alt text](https://raw.githubusercontent.com/NETspace-GIT/Udacity_DSN/main/project1/pricedistribution.png)\n",
    "\n",
    "\n"
   ]
  },
  {
   "cell_type": "markdown",
   "metadata": {},
   "source": [
    "# Question 3: What guest reviews have to tell us!\n",
    "\n",
    "These days customers' ratings and reviews play a crucial rule in the way they decide to choose properties and property types that they want to choose. Let's have a look at this subject too. Mainly se can observe that there are 7 main categories of ratings in data which includes General rating along woth complementary ratings as: Accuracy, cleanless, check in, communication and Value.\n",
    "\n",
    "In a client's point of view, all mentioned factor are the most important decision factors. Following chart demonstrates average ratings per each category\n",
    "\n",
    "![alt text](https://raw.githubusercontent.com/NETspace-GIT/Udacity_DSN/main/project1/averagescore.png)\n",
    "\n",
    "As we can see, overall Seattle properties all have a very high value of rating (above 90%) which indicates clients have ovrall a great experience at Seattle properties. This fact can also been seen easily by looking at average rating per property types with rating.\n",
    "\n",
    "\n",
    "![alt text](https://raw.githubusercontent.com/NETspace-GIT/Udacity_DSN/main/project1/ratetype.png)\n",
    "\n",
    "\n"
   ]
  },
  {
   "cell_type": "markdown",
   "metadata": {},
   "source": [
    "###  Conclusion\n",
    "\n",
    "From a guest point of view, it's possible to say that Seattle is more likely to provide a nice Airbnb experience, as we have seen that:\n",
    "\n",
    "*   The hosts seem to be thoughful and flexible, besides the fact of being close to help out with any problems;\n",
    "*   Prices for one night booking are reasonable and close for almost all the property types, but vehicles (Boats and Camper/RVs);\n",
    "*   Booking reviews for all the types of properties are acceptable with high average value;"
   ]
  },
  {
   "cell_type": "code",
   "execution_count": null,
   "metadata": {},
   "outputs": [],
   "source": []
  }
 ],
 "metadata": {
  "kernelspec": {
   "display_name": "Python 3",
   "language": "python",
   "name": "python3"
  },
  "language_info": {
   "codemirror_mode": {
    "name": "ipython",
    "version": 3
   },
   "file_extension": ".py",
   "mimetype": "text/x-python",
   "name": "python",
   "nbconvert_exporter": "python",
   "pygments_lexer": "ipython3",
   "version": "3.7.6"
  }
 },
 "nbformat": 4,
 "nbformat_minor": 4
}
