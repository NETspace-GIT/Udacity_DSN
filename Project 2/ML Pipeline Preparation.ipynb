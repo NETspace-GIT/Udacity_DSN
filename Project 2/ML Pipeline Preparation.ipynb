{
 "cells": [
  {
   "cell_type": "markdown",
   "metadata": {},
   "source": [
    "# ML Pipeline Preparation\n",
    "Follow the instructions below to help you create your ML pipeline.\n",
    "### 1. Import libraries and load data from database.\n",
    "- Import Python libraries\n",
    "- Load dataset from database with [`read_sql_table`](https://pandas.pydata.org/pandas-docs/stable/generated/pandas.read_sql_table.html)\n",
    "- Define feature and target variables X and Y"
   ]
  },
  {
   "cell_type": "code",
   "execution_count": 1,
   "metadata": {},
   "outputs": [
    {
     "name": "stderr",
     "output_type": "stream",
     "text": [
      "[nltk_data] Downloading package punkt to\n",
      "[nltk_data]     C:\\Users\\mhali\\AppData\\Roaming\\nltk_data...\n",
      "[nltk_data]   Package punkt is already up-to-date!\n",
      "[nltk_data] Downloading package wordnet to\n",
      "[nltk_data]     C:\\Users\\mhali\\AppData\\Roaming\\nltk_data...\n",
      "[nltk_data]   Package wordnet is already up-to-date!\n"
     ]
    },
    {
     "data": {
      "text/plain": [
       "True"
      ]
     },
     "execution_count": 1,
     "metadata": {},
     "output_type": "execute_result"
    }
   ],
   "source": [
    "import nltk\n",
    "import numpy as np\n",
    "import pandas as pd\n",
    "from sqlalchemy import create_engine\n",
    "import re\n",
    "from sklearn.pipeline import Pipeline\n",
    "from sklearn.ensemble import RandomForestClassifier\n",
    "from sklearn.multioutput import MultiOutputClassifier\n",
    "from sklearn.model_selection import train_test_split, GridSearchCV\n",
    "from sklearn.feature_extraction.text import CountVectorizer, TfidfTransformer\n",
    "from sklearn.metrics import precision_recall_fscore_support\n",
    "from sklearn.tree import DecisionTreeClassifier\n",
    "from sklearn.metrics import precision_recall_fscore_support,accuracy_score,label_ranking_average_precision_score\n",
    "import pickle\n",
    "from nltk.tokenize import word_tokenize, RegexpTokenizer\n",
    "from nltk.stem import WordNetLemmatizer\n",
    "nltk.download(['punkt', 'wordnet'])"
   ]
  },
  {
   "cell_type": "code",
   "execution_count": 2,
   "metadata": {},
   "outputs": [],
   "source": [
    "# load data from database\n",
    "engine = create_engine('sqlite:///data/DisasterResponse.db')\n",
    "df = pd.read_sql_table('Disasters', con=engine)\n",
    "X = df['message']\n",
    "y = df[df.columns[5:]]\n",
    "added = pd.get_dummies(df[['related','genre']])\n",
    "y = pd.concat([y, added], axis=1)"
   ]
  },
  {
   "cell_type": "markdown",
   "metadata": {},
   "source": [
    "### 2. Write a tokenization function to process your text data"
   ]
  },
  {
   "cell_type": "markdown",
   "metadata": {},
   "source": [
    "the function below takes in a text and uses the url_regx to tokenize it with the help of tokenizer"
   ]
  },
  {
   "cell_type": "code",
   "execution_count": 3,
   "metadata": {},
   "outputs": [],
   "source": [
    "url_regex = 'http[s]?://(?:[a-zA-Z]|[0-9]|[$-_@.&+]|[!*\\(\\),]|(?:%[0-9a-fA-F][0-9a-fA-F]))+'\n",
    "def tokenize(text):\n",
    "    detected_urls = re.findall(url_regex, text)\n",
    "    for url in detected_urls:\n",
    "        text = text.replace(url, \"urlplaceholder\")\n",
    "    \n",
    "    # take out all punctuation while tokenizing\n",
    "    tokenizer = RegexpTokenizer(r'\\w+')\n",
    "    tokens = tokenizer.tokenize(text)\n",
    "    \n",
    "    # lemmatize as shown in the lesson\n",
    "    lemmatizer = WordNetLemmatizer()\n",
    "    clean_tokens = []\n",
    "    for tok in tokens:\n",
    "        clean_tok = lemmatizer.lemmatize(tok).lower().strip()\n",
    "        clean_tokens.append(clean_tok)\n",
    "    return clean_tokens"
   ]
  },
  {
   "cell_type": "code",
   "execution_count": null,
   "metadata": {},
   "outputs": [],
   "source": []
  },
  {
   "cell_type": "markdown",
   "metadata": {},
   "source": [
    "### 3. Build a machine learning pipeline\n",
    "This machine pipeline should take in the `message` column as input and output classification results on the other 36 categories in the dataset. You may find the [MultiOutputClassifier](http://scikit-learn.org/stable/modules/generated/sklearn.multioutput.MultiOutputClassifier.html) helpful for predicting multiple target variables."
   ]
  },
  {
   "cell_type": "markdown",
   "metadata": {},
   "source": [
    "random forests classifier is built using pipeline tobe used further"
   ]
  },
  {
   "cell_type": "code",
   "execution_count": 4,
   "metadata": {},
   "outputs": [],
   "source": [
    "# Create pipeline with Classifier\n",
    "moc = MultiOutputClassifier(RandomForestClassifier())\n",
    "\n",
    "pipeline = Pipeline([\n",
    "    ('vect', CountVectorizer(tokenizer=tokenize)),\n",
    "    ('tfidf', TfidfTransformer()),\n",
    "    ('clf', moc)\n",
    "    ])"
   ]
  },
  {
   "cell_type": "markdown",
   "metadata": {},
   "source": [
    "### 4. Train pipeline\n",
    "- Split data into train and test sets\n",
    "- Train pipeline"
   ]
  },
  {
   "cell_type": "code",
   "execution_count": 6,
   "metadata": {},
   "outputs": [
    {
     "data": {
      "text/plain": [
       "Pipeline(steps=[('vect',\n",
       "                 CountVectorizer(tokenizer=<function tokenize at 0x00000242401C4288>)),\n",
       "                ('tfidf', TfidfTransformer()),\n",
       "                ('clf',\n",
       "                 MultiOutputClassifier(estimator=RandomForestClassifier()))])"
      ]
     },
     "execution_count": 6,
     "metadata": {},
     "output_type": "execute_result"
    }
   ],
   "source": [
    "X_train,X_test,y_train,y_test=train_test_split(X,y,test_size=0.2, random_state=1361)\n",
    "pipeline.fit(X_train,y_train)"
   ]
  },
  {
   "cell_type": "markdown",
   "metadata": {},
   "source": [
    "### 5. Test your model\n",
    "Report the f1 score, precision and recall for each output category of the dataset. You can do this by iterating through the columns and calling sklearn's `classification_report` on each."
   ]
  },
  {
   "cell_type": "markdown",
   "metadata": {},
   "source": [
    "this function will be called further to get results thiis takes in y_test and y_pred data and prints out f_score,precision and recall"
   ]
  },
  {
   "cell_type": "code",
   "execution_count": 13,
   "metadata": {},
   "outputs": [],
   "source": [
    "def display_results(Y_test, y_pred):\n",
    "    result=precision_recall_fscore_support(Y_test, y_pred)\n",
    "    for i, col in enumerate(Y_test.columns.values):\n",
    "        accu=accuracy_score(Y_test.loc[:,col],y_pred[:,i])\n",
    "        score = ('{}\\n Accuracy:  {:.4f}   % Precision: {:.4f}   % Recall {:.4f} '.format(\n",
    "                  col,accu,result[0][i],result[1][i]))\n",
    "        print(score)\n",
    "    avg_precision = label_ranking_average_precision_score(Y_test, y_pred)\n",
    "    avg_score= ('label ranking average precision: {}'.format(avg_precision))\n",
    "    print(avg_score)"
   ]
  },
  {
   "cell_type": "code",
   "execution_count": 9,
   "metadata": {},
   "outputs": [],
   "source": [
    "y_pred=pipeline.predict(X_test)"
   ]
  },
  {
   "cell_type": "markdown",
   "metadata": {},
   "source": [
    "the above fuction is called here to get the results"
   ]
  },
  {
   "cell_type": "code",
   "execution_count": 14,
   "metadata": {},
   "outputs": [
    {
     "name": "stdout",
     "output_type": "stream",
     "text": [
      "request\n",
      " Accuracy:  0.9034   % Precision: 0.9080   % Recall 0.4535 \n",
      "offer\n",
      " Accuracy:  0.9940   % Precision: 0.0000   % Recall 0.0000 \n",
      "aid_related\n",
      " Accuracy:  0.7756   % Precision: 0.7824   % Recall 0.6467 \n",
      "medical_help\n",
      " Accuracy:  0.9109   % Precision: 0.7083   % Recall 0.0359 \n",
      "medical_products\n",
      " Accuracy:  0.9470   % Precision: 0.6522   % Recall 0.0530 \n",
      "search_and_rescue\n",
      " Accuracy:  0.9727   % Precision: 0.5000   % Recall 0.0915 \n",
      "security\n",
      " Accuracy:  0.9827   % Precision: 0.0000   % Recall 0.0000 \n",
      "military\n",
      " Accuracy:  0.9672   % Precision: 0.6364   % Recall 0.0402 \n",
      "child_alone\n",
      " Accuracy:  1.0000   % Precision: 0.0000   % Recall 0.0000 \n",
      "water\n",
      " Accuracy:  0.9483   % Precision: 0.9000   % Recall 0.2375 \n",
      "food\n",
      " Accuracy:  0.9284   % Precision: 0.8793   % Recall 0.4300 \n",
      "shelter\n",
      " Accuracy:  0.9234   % Precision: 0.8433   % Recall 0.2301 \n",
      "clothing\n",
      " Accuracy:  0.9866   % Precision: 0.7143   % Recall 0.0685 \n",
      "money\n",
      " Accuracy:  0.9793   % Precision: 0.5000   % Recall 0.0093 \n",
      "missing_people\n",
      " Accuracy:  0.9887   % Precision: 0.0000   % Recall 0.0000 \n",
      "refugees\n",
      " Accuracy:  0.9641   % Precision: 0.3333   % Recall 0.0054 \n",
      "death\n",
      " Accuracy:  0.9585   % Precision: 0.8276   % Recall 0.1021 \n",
      "other_aid\n",
      " Accuracy:  0.8738   % Precision: 0.5769   % Recall 0.0227 \n",
      "infrastructure_related\n",
      " Accuracy:  0.9314   % Precision: 0.0000   % Recall 0.0000 \n",
      "transport\n",
      " Accuracy:  0.9562   % Precision: 0.6923   % Recall 0.0756 \n",
      "buildings\n",
      " Accuracy:  0.9504   % Precision: 0.6667   % Recall 0.0818 \n",
      "electricity\n",
      " Accuracy:  0.9771   % Precision: 0.6667   % Recall 0.0167 \n",
      "tools\n",
      " Accuracy:  0.9942   % Precision: 0.0000   % Recall 0.0000 \n",
      "hospitals\n",
      " Accuracy:  0.9891   % Precision: 0.0000   % Recall 0.0000 \n",
      "shops\n",
      " Accuracy:  0.9946   % Precision: 0.0000   % Recall 0.0000 \n",
      "aid_centers\n",
      " Accuracy:  0.9883   % Precision: 0.0000   % Recall 0.0000 \n",
      "other_infrastructure\n",
      " Accuracy:  0.9541   % Precision: 0.0000   % Recall 0.0000 \n",
      "weather_related\n",
      " Accuracy:  0.8761   % Precision: 0.8764   % Recall 0.6460 \n",
      "floods\n",
      " Accuracy:  0.9430   % Precision: 0.8964   % Recall 0.3844 \n",
      "storm\n",
      " Accuracy:  0.9428   % Precision: 0.8151   % Recall 0.4938 \n",
      "fire\n",
      " Accuracy:  0.9891   % Precision: 0.0000   % Recall 0.0000 \n",
      "earthquake\n",
      " Accuracy:  0.9735   % Precision: 0.9163   % Recall 0.7881 \n",
      "cold\n",
      " Accuracy:  0.9802   % Precision: 0.7143   % Recall 0.0472 \n",
      "other_weather\n",
      " Accuracy:  0.9476   % Precision: 0.8000   % Recall 0.0145 \n",
      "direct_report\n",
      " Accuracy:  0.8675   % Precision: 0.8582   % Recall 0.3613 \n",
      "related\n",
      " Accuracy:  0.8081   % Precision: 0.8156   % Recall 0.9690 \n",
      "genre_direct\n",
      " Accuracy:  0.9487   % Precision: 0.9171   % Recall 0.9561 \n",
      "genre_news\n",
      " Accuracy:  0.9591   % Precision: 0.9727   % Recall 0.9469 \n",
      "genre_social\n",
      " Accuracy:  0.9833   % Precision: 0.9901   % Recall 0.8282 \n",
      "label ranking average precision: 0.6593072655241549\n"
     ]
    }
   ],
   "source": [
    "results = display_results(y_test, y_pred)\n",
    "\n",
    "results"
   ]
  },
  {
   "cell_type": "markdown",
   "metadata": {},
   "source": [
    "### 6. Improve your model\n",
    "Use grid search to find better parameters. "
   ]
  },
  {
   "cell_type": "code",
   "execution_count": 15,
   "metadata": {},
   "outputs": [
    {
     "data": {
      "text/plain": [
       "{'memory': None,\n",
       " 'steps': [('vect',\n",
       "   CountVectorizer(tokenizer=<function tokenize at 0x00000242401C4288>)),\n",
       "  ('tfidf', TfidfTransformer()),\n",
       "  ('clf', MultiOutputClassifier(estimator=RandomForestClassifier()))],\n",
       " 'verbose': False,\n",
       " 'vect': CountVectorizer(tokenizer=<function tokenize at 0x00000242401C4288>),\n",
       " 'tfidf': TfidfTransformer(),\n",
       " 'clf': MultiOutputClassifier(estimator=RandomForestClassifier()),\n",
       " 'vect__analyzer': 'word',\n",
       " 'vect__binary': False,\n",
       " 'vect__decode_error': 'strict',\n",
       " 'vect__dtype': numpy.int64,\n",
       " 'vect__encoding': 'utf-8',\n",
       " 'vect__input': 'content',\n",
       " 'vect__lowercase': True,\n",
       " 'vect__max_df': 1.0,\n",
       " 'vect__max_features': None,\n",
       " 'vect__min_df': 1,\n",
       " 'vect__ngram_range': (1, 1),\n",
       " 'vect__preprocessor': None,\n",
       " 'vect__stop_words': None,\n",
       " 'vect__strip_accents': None,\n",
       " 'vect__token_pattern': '(?u)\\\\b\\\\w\\\\w+\\\\b',\n",
       " 'vect__tokenizer': <function __main__.tokenize(text)>,\n",
       " 'vect__vocabulary': None,\n",
       " 'tfidf__norm': 'l2',\n",
       " 'tfidf__smooth_idf': True,\n",
       " 'tfidf__sublinear_tf': False,\n",
       " 'tfidf__use_idf': True,\n",
       " 'clf__estimator__bootstrap': True,\n",
       " 'clf__estimator__ccp_alpha': 0.0,\n",
       " 'clf__estimator__class_weight': None,\n",
       " 'clf__estimator__criterion': 'gini',\n",
       " 'clf__estimator__max_depth': None,\n",
       " 'clf__estimator__max_features': 'auto',\n",
       " 'clf__estimator__max_leaf_nodes': None,\n",
       " 'clf__estimator__max_samples': None,\n",
       " 'clf__estimator__min_impurity_decrease': 0.0,\n",
       " 'clf__estimator__min_impurity_split': None,\n",
       " 'clf__estimator__min_samples_leaf': 1,\n",
       " 'clf__estimator__min_samples_split': 2,\n",
       " 'clf__estimator__min_weight_fraction_leaf': 0.0,\n",
       " 'clf__estimator__n_estimators': 100,\n",
       " 'clf__estimator__n_jobs': None,\n",
       " 'clf__estimator__oob_score': False,\n",
       " 'clf__estimator__random_state': None,\n",
       " 'clf__estimator__verbose': 0,\n",
       " 'clf__estimator__warm_start': False,\n",
       " 'clf__estimator': RandomForestClassifier(),\n",
       " 'clf__n_jobs': None}"
      ]
     },
     "execution_count": 15,
     "metadata": {},
     "output_type": "execute_result"
    }
   ],
   "source": [
    "#using grid search\n",
    "pipeline.get_params()"
   ]
  },
  {
   "cell_type": "markdown",
   "metadata": {},
   "source": [
    "the grid search will tune the model for max depth of 10,50 or none and with min sample leaves of 2,5,10"
   ]
  },
  {
   "cell_type": "code",
   "execution_count": 16,
   "metadata": {},
   "outputs": [],
   "source": [
    "parameters = {'clf__estimator__max_depth': [10, 50, None],\n",
    "              \n",
    "              'clf__estimator__min_samples_leaf':[2, 5, 10]}\n",
    "\n",
    "cv = GridSearchCV(pipeline, parameters)"
   ]
  },
  {
   "cell_type": "markdown",
   "metadata": {},
   "source": [
    "### 7. Test your model\n",
    "Show the accuracy, precision, and recall of the tuned model.  \n",
    "\n",
    "Since this project focuses on code quality, process, and  pipelines, there is no minimum performance metric needed to pass. However, make sure to fine tune your models for accuracy, precision and recall to make your project stand out - especially for your portfolio!"
   ]
  },
  {
   "cell_type": "markdown",
   "metadata": {},
   "source": [
    "the get_results function declared earlier is called upon to get the results"
   ]
  },
  {
   "cell_type": "code",
   "execution_count": 19,
   "metadata": {},
   "outputs": [
    {
     "name": "stderr",
     "output_type": "stream",
     "text": [
      "C:\\Users\\mhali\\anaconda3\\lib\\site-packages\\sklearn\\metrics\\_classification.py:1221: UndefinedMetricWarning: Precision and F-score are ill-defined and being set to 0.0 in labels with no predicted samples. Use `zero_division` parameter to control this behavior.\n",
      "  _warn_prf(average, modifier, msg_start, len(result))\n",
      "C:\\Users\\mhali\\anaconda3\\lib\\site-packages\\sklearn\\metrics\\_classification.py:1221: UndefinedMetricWarning: Recall and F-score are ill-defined and being set to 0.0 in labels with no true samples. Use `zero_division` parameter to control this behavior.\n",
      "  _warn_prf(average, modifier, msg_start, len(result))\n"
     ]
    },
    {
     "name": "stdout",
     "output_type": "stream",
     "text": [
      "request\n",
      " Accuracy:  0.9034   % Precision: 0.9080   % Recall 0.4535 \n",
      "offer\n",
      " Accuracy:  0.9940   % Precision: 0.0000   % Recall 0.0000 \n",
      "aid_related\n",
      " Accuracy:  0.7756   % Precision: 0.7824   % Recall 0.6467 \n",
      "medical_help\n",
      " Accuracy:  0.9109   % Precision: 0.7083   % Recall 0.0359 \n",
      "medical_products\n",
      " Accuracy:  0.9470   % Precision: 0.6522   % Recall 0.0530 \n",
      "search_and_rescue\n",
      " Accuracy:  0.9727   % Precision: 0.5000   % Recall 0.0915 \n",
      "security\n",
      " Accuracy:  0.9827   % Precision: 0.0000   % Recall 0.0000 \n",
      "military\n",
      " Accuracy:  0.9672   % Precision: 0.6364   % Recall 0.0402 \n",
      "child_alone\n",
      " Accuracy:  1.0000   % Precision: 0.0000   % Recall 0.0000 \n",
      "water\n",
      " Accuracy:  0.9483   % Precision: 0.9000   % Recall 0.2375 \n",
      "food\n",
      " Accuracy:  0.9284   % Precision: 0.8793   % Recall 0.4300 \n",
      "shelter\n",
      " Accuracy:  0.9234   % Precision: 0.8433   % Recall 0.2301 \n",
      "clothing\n",
      " Accuracy:  0.9866   % Precision: 0.7143   % Recall 0.0685 \n",
      "money\n",
      " Accuracy:  0.9793   % Precision: 0.5000   % Recall 0.0093 \n",
      "missing_people\n",
      " Accuracy:  0.9887   % Precision: 0.0000   % Recall 0.0000 \n",
      "refugees\n",
      " Accuracy:  0.9641   % Precision: 0.3333   % Recall 0.0054 \n",
      "death\n",
      " Accuracy:  0.9585   % Precision: 0.8276   % Recall 0.1021 \n",
      "other_aid\n",
      " Accuracy:  0.8738   % Precision: 0.5769   % Recall 0.0227 \n",
      "infrastructure_related\n",
      " Accuracy:  0.9314   % Precision: 0.0000   % Recall 0.0000 \n",
      "transport\n",
      " Accuracy:  0.9562   % Precision: 0.6923   % Recall 0.0756 \n",
      "buildings\n",
      " Accuracy:  0.9504   % Precision: 0.6667   % Recall 0.0818 \n",
      "electricity\n",
      " Accuracy:  0.9771   % Precision: 0.6667   % Recall 0.0167 \n",
      "tools\n",
      " Accuracy:  0.9942   % Precision: 0.0000   % Recall 0.0000 \n",
      "hospitals\n",
      " Accuracy:  0.9891   % Precision: 0.0000   % Recall 0.0000 \n",
      "shops\n",
      " Accuracy:  0.9946   % Precision: 0.0000   % Recall 0.0000 \n",
      "aid_centers\n",
      " Accuracy:  0.9883   % Precision: 0.0000   % Recall 0.0000 \n",
      "other_infrastructure\n",
      " Accuracy:  0.9541   % Precision: 0.0000   % Recall 0.0000 \n",
      "weather_related\n",
      " Accuracy:  0.8761   % Precision: 0.8764   % Recall 0.6460 \n",
      "floods\n",
      " Accuracy:  0.9430   % Precision: 0.8964   % Recall 0.3844 \n",
      "storm\n",
      " Accuracy:  0.9428   % Precision: 0.8151   % Recall 0.4938 \n",
      "fire\n",
      " Accuracy:  0.9891   % Precision: 0.0000   % Recall 0.0000 \n",
      "earthquake\n",
      " Accuracy:  0.9735   % Precision: 0.9163   % Recall 0.7881 \n",
      "cold\n",
      " Accuracy:  0.9802   % Precision: 0.7143   % Recall 0.0472 \n",
      "other_weather\n",
      " Accuracy:  0.9476   % Precision: 0.8000   % Recall 0.0145 \n",
      "direct_report\n",
      " Accuracy:  0.8675   % Precision: 0.8582   % Recall 0.3613 \n",
      "related\n",
      " Accuracy:  0.8081   % Precision: 0.8156   % Recall 0.9690 \n",
      "genre_direct\n",
      " Accuracy:  0.9487   % Precision: 0.9171   % Recall 0.9561 \n",
      "genre_news\n",
      " Accuracy:  0.9591   % Precision: 0.9727   % Recall 0.9469 \n",
      "genre_social\n",
      " Accuracy:  0.9833   % Precision: 0.9901   % Recall 0.8282 \n",
      "label ranking average precision: 0.6593072655241549\n"
     ]
    }
   ],
   "source": [
    "cv.fit(X_train, y_train)\n",
    "\n",
    "y_pred = pipeline.predict(X_test)\n",
    "results2 = display_results(y_test, y_pred)\n",
    "results2"
   ]
  },
  {
   "cell_type": "markdown",
   "metadata": {},
   "source": [
    "the best estimator obtained from grid search is printed below"
   ]
  },
  {
   "cell_type": "code",
   "execution_count": 20,
   "metadata": {},
   "outputs": [
    {
     "data": {
      "text/plain": [
       "Pipeline(steps=[('vect',\n",
       "                 CountVectorizer(tokenizer=<function tokenize at 0x00000242401C4288>)),\n",
       "                ('tfidf', TfidfTransformer()),\n",
       "                ('clf',\n",
       "                 MultiOutputClassifier(estimator=RandomForestClassifier(min_samples_leaf=2)))])"
      ]
     },
     "execution_count": 20,
     "metadata": {},
     "output_type": "execute_result"
    }
   ],
   "source": [
    "#finding the best estimator after using grid search\n",
    "cv.best_estimator_"
   ]
  },
  {
   "cell_type": "markdown",
   "metadata": {},
   "source": [
    "### 8. Try improving your model further. Here are a few ideas:\n",
    "* try other machine learning algorithms\n",
    "* add other features besides the TF-IDF"
   ]
  },
  {
   "cell_type": "code",
   "execution_count": 23,
   "metadata": {},
   "outputs": [
    {
     "name": "stderr",
     "output_type": "stream",
     "text": [
      "/opt/conda/lib/python3.6/site-packages/ipykernel_launcher.py:11: FutureWarning: Method .as_matrix will be removed in a future version. Use .values instead.\n",
      "  # This is added back by InteractiveShellApp.init_path()\n"
     ]
    },
    {
     "name": "stdout",
     "output_type": "stream",
     "text": [
      "Aggregated f_score is: 0.931533336249\n",
      "Aggregated precision is: 0.930696028571\n",
      "Aggregated recall is: 0.932485935385\n"
     ]
    },
    {
     "name": "stderr",
     "output_type": "stream",
     "text": [
      "/opt/conda/lib/python3.6/site-packages/ipykernel_launcher.py:6: FutureWarning: set_value is deprecated and will be removed in a future release. Please use .at[] or .iat[] accessors instead\n",
      "  \n",
      "/opt/conda/lib/python3.6/site-packages/ipykernel_launcher.py:7: FutureWarning: set_value is deprecated and will be removed in a future release. Please use .at[] or .iat[] accessors instead\n",
      "  import sys\n",
      "/opt/conda/lib/python3.6/site-packages/ipykernel_launcher.py:9: FutureWarning: set_value is deprecated and will be removed in a future release. Please use .at[] or .iat[] accessors instead\n",
      "  if __name__ == '__main__':\n",
      "/opt/conda/lib/python3.6/site-packages/ipykernel_launcher.py:10: FutureWarning: set_value is deprecated and will be removed in a future release. Please use .at[] or .iat[] accessors instead\n",
      "  # Remove the CWD from sys.path while we load stuff.\n"
     ]
    },
    {
     "data": {
      "text/html": [
       "<div>\n",
       "<style scoped>\n",
       "    .dataframe tbody tr th:only-of-type {\n",
       "        vertical-align: middle;\n",
       "    }\n",
       "\n",
       "    .dataframe tbody tr th {\n",
       "        vertical-align: top;\n",
       "    }\n",
       "\n",
       "    .dataframe thead th {\n",
       "        text-align: right;\n",
       "    }\n",
       "</style>\n",
       "<table border=\"1\" class=\"dataframe\">\n",
       "  <thead>\n",
       "    <tr style=\"text-align: right;\">\n",
       "      <th></th>\n",
       "      <th>Category</th>\n",
       "      <th>f_score</th>\n",
       "      <th>precision</th>\n",
       "      <th>recall</th>\n",
       "    </tr>\n",
       "  </thead>\n",
       "  <tbody>\n",
       "    <tr>\n",
       "      <th>1</th>\n",
       "      <td>request</td>\n",
       "      <td>0.850185</td>\n",
       "      <td>0.849222</td>\n",
       "      <td>0.851236</td>\n",
       "    </tr>\n",
       "    <tr>\n",
       "      <th>2</th>\n",
       "      <td>offer</td>\n",
       "      <td>0.990677</td>\n",
       "      <td>0.991121</td>\n",
       "      <td>0.990235</td>\n",
       "    </tr>\n",
       "    <tr>\n",
       "      <th>3</th>\n",
       "      <td>aid_related</td>\n",
       "      <td>0.695338</td>\n",
       "      <td>0.694866</td>\n",
       "      <td>0.696063</td>\n",
       "    </tr>\n",
       "    <tr>\n",
       "      <th>4</th>\n",
       "      <td>medical_help</td>\n",
       "      <td>0.906385</td>\n",
       "      <td>0.903978</td>\n",
       "      <td>0.909063</td>\n",
       "    </tr>\n",
       "    <tr>\n",
       "      <th>5</th>\n",
       "      <td>medical_products</td>\n",
       "      <td>0.942643</td>\n",
       "      <td>0.941661</td>\n",
       "      <td>0.943699</td>\n",
       "    </tr>\n",
       "    <tr>\n",
       "      <th>6</th>\n",
       "      <td>search_and_rescue</td>\n",
       "      <td>0.958933</td>\n",
       "      <td>0.957605</td>\n",
       "      <td>0.96033</td>\n",
       "    </tr>\n",
       "    <tr>\n",
       "      <th>7</th>\n",
       "      <td>security</td>\n",
       "      <td>0.970095</td>\n",
       "      <td>0.968189</td>\n",
       "      <td>0.972078</td>\n",
       "    </tr>\n",
       "    <tr>\n",
       "      <th>8</th>\n",
       "      <td>military</td>\n",
       "      <td>0.965517</td>\n",
       "      <td>0.965517</td>\n",
       "      <td>0.965517</td>\n",
       "    </tr>\n",
       "    <tr>\n",
       "      <th>9</th>\n",
       "      <td>child_alone</td>\n",
       "      <td>1</td>\n",
       "      <td>1</td>\n",
       "      <td>1</td>\n",
       "    </tr>\n",
       "    <tr>\n",
       "      <th>10</th>\n",
       "      <td>water</td>\n",
       "      <td>0.958696</td>\n",
       "      <td>0.958218</td>\n",
       "      <td>0.959262</td>\n",
       "    </tr>\n",
       "    <tr>\n",
       "      <th>11</th>\n",
       "      <td>food</td>\n",
       "      <td>0.942529</td>\n",
       "      <td>0.942581</td>\n",
       "      <td>0.942478</td>\n",
       "    </tr>\n",
       "    <tr>\n",
       "      <th>12</th>\n",
       "      <td>shelter</td>\n",
       "      <td>0.926685</td>\n",
       "      <td>0.92538</td>\n",
       "      <td>0.928288</td>\n",
       "    </tr>\n",
       "    <tr>\n",
       "      <th>13</th>\n",
       "      <td>clothing</td>\n",
       "      <td>0.984135</td>\n",
       "      <td>0.983637</td>\n",
       "      <td>0.984742</td>\n",
       "    </tr>\n",
       "    <tr>\n",
       "      <th>14</th>\n",
       "      <td>money</td>\n",
       "      <td>0.967363</td>\n",
       "      <td>0.966935</td>\n",
       "      <td>0.967806</td>\n",
       "    </tr>\n",
       "    <tr>\n",
       "      <th>15</th>\n",
       "      <td>missing_people</td>\n",
       "      <td>0.982117</td>\n",
       "      <td>0.981102</td>\n",
       "      <td>0.983216</td>\n",
       "    </tr>\n",
       "    <tr>\n",
       "      <th>16</th>\n",
       "      <td>refugees</td>\n",
       "      <td>0.960202</td>\n",
       "      <td>0.959505</td>\n",
       "      <td>0.96094</td>\n",
       "    </tr>\n",
       "    <tr>\n",
       "      <th>17</th>\n",
       "      <td>death</td>\n",
       "      <td>0.961493</td>\n",
       "      <td>0.961591</td>\n",
       "      <td>0.961398</td>\n",
       "    </tr>\n",
       "    <tr>\n",
       "      <th>18</th>\n",
       "      <td>other_aid</td>\n",
       "      <td>0.808716</td>\n",
       "      <td>0.805336</td>\n",
       "      <td>0.812328</td>\n",
       "    </tr>\n",
       "    <tr>\n",
       "      <th>19</th>\n",
       "      <td>infrastructure_related</td>\n",
       "      <td>0.893051</td>\n",
       "      <td>0.892005</td>\n",
       "      <td>0.89411</td>\n",
       "    </tr>\n",
       "    <tr>\n",
       "      <th>20</th>\n",
       "      <td>transport</td>\n",
       "      <td>0.940828</td>\n",
       "      <td>0.938909</td>\n",
       "      <td>0.942936</td>\n",
       "    </tr>\n",
       "    <tr>\n",
       "      <th>21</th>\n",
       "      <td>buildings</td>\n",
       "      <td>0.94364</td>\n",
       "      <td>0.942349</td>\n",
       "      <td>0.945072</td>\n",
       "    </tr>\n",
       "    <tr>\n",
       "      <th>22</th>\n",
       "      <td>electricity</td>\n",
       "      <td>0.974084</td>\n",
       "      <td>0.973809</td>\n",
       "      <td>0.974367</td>\n",
       "    </tr>\n",
       "    <tr>\n",
       "      <th>23</th>\n",
       "      <td>tools</td>\n",
       "      <td>0.989341</td>\n",
       "      <td>0.988757</td>\n",
       "      <td>0.98993</td>\n",
       "    </tr>\n",
       "    <tr>\n",
       "      <th>24</th>\n",
       "      <td>hospitals</td>\n",
       "      <td>0.983643</td>\n",
       "      <td>0.982753</td>\n",
       "      <td>0.98459</td>\n",
       "    </tr>\n",
       "    <tr>\n",
       "      <th>25</th>\n",
       "      <td>shops</td>\n",
       "      <td>0.990325</td>\n",
       "      <td>0.98996</td>\n",
       "      <td>0.990693</td>\n",
       "    </tr>\n",
       "    <tr>\n",
       "      <th>26</th>\n",
       "      <td>aid_centers</td>\n",
       "      <td>0.982251</td>\n",
       "      <td>0.980799</td>\n",
       "      <td>0.983827</td>\n",
       "    </tr>\n",
       "    <tr>\n",
       "      <th>27</th>\n",
       "      <td>other_infrastructure</td>\n",
       "      <td>0.926829</td>\n",
       "      <td>0.924107</td>\n",
       "      <td>0.929661</td>\n",
       "    </tr>\n",
       "    <tr>\n",
       "      <th>28</th>\n",
       "      <td>weather_related</td>\n",
       "      <td>0.844416</td>\n",
       "      <td>0.843689</td>\n",
       "      <td>0.845438</td>\n",
       "    </tr>\n",
       "    <tr>\n",
       "      <th>29</th>\n",
       "      <td>floods</td>\n",
       "      <td>0.93344</td>\n",
       "      <td>0.932604</td>\n",
       "      <td>0.934391</td>\n",
       "    </tr>\n",
       "    <tr>\n",
       "      <th>30</th>\n",
       "      <td>storm</td>\n",
       "      <td>0.932772</td>\n",
       "      <td>0.931741</td>\n",
       "      <td>0.934086</td>\n",
       "    </tr>\n",
       "    <tr>\n",
       "      <th>31</th>\n",
       "      <td>fire</td>\n",
       "      <td>0.986553</td>\n",
       "      <td>0.986109</td>\n",
       "      <td>0.987031</td>\n",
       "    </tr>\n",
       "    <tr>\n",
       "      <th>32</th>\n",
       "      <td>earthquake</td>\n",
       "      <td>0.959041</td>\n",
       "      <td>0.958667</td>\n",
       "      <td>0.959567</td>\n",
       "    </tr>\n",
       "    <tr>\n",
       "      <th>33</th>\n",
       "      <td>cold</td>\n",
       "      <td>0.977015</td>\n",
       "      <td>0.97664</td>\n",
       "      <td>0.977418</td>\n",
       "    </tr>\n",
       "    <tr>\n",
       "      <th>34</th>\n",
       "      <td>other_weather</td>\n",
       "      <td>0.921078</td>\n",
       "      <td>0.919855</td>\n",
       "      <td>0.922338</td>\n",
       "    </tr>\n",
       "    <tr>\n",
       "      <th>35</th>\n",
       "      <td>direct_report</td>\n",
       "      <td>0.823808</td>\n",
       "      <td>0.822117</td>\n",
       "      <td>0.825755</td>\n",
       "    </tr>\n",
       "    <tr>\n",
       "      <th>36</th>\n",
       "      <td>related</td>\n",
       "      <td>0.751793</td>\n",
       "      <td>0.750835</td>\n",
       "      <td>0.752975</td>\n",
       "    </tr>\n",
       "    <tr>\n",
       "      <th>37</th>\n",
       "      <td>genre_direct</td>\n",
       "      <td>0.903182</td>\n",
       "      <td>0.903735</td>\n",
       "      <td>0.90296</td>\n",
       "    </tr>\n",
       "    <tr>\n",
       "      <th>38</th>\n",
       "      <td>genre_news</td>\n",
       "      <td>0.917733</td>\n",
       "      <td>0.918061</td>\n",
       "      <td>0.91776</td>\n",
       "    </tr>\n",
       "    <tr>\n",
       "      <th>39</th>\n",
       "      <td>genre_social</td>\n",
       "      <td>0.983265</td>\n",
       "      <td>0.983198</td>\n",
       "      <td>0.983369</td>\n",
       "    </tr>\n",
       "  </tbody>\n",
       "</table>\n",
       "</div>"
      ],
      "text/plain": [
       "                  Category   f_score precision    recall\n",
       "1                  request  0.850185  0.849222  0.851236\n",
       "2                    offer  0.990677  0.991121  0.990235\n",
       "3              aid_related  0.695338  0.694866  0.696063\n",
       "4             medical_help  0.906385  0.903978  0.909063\n",
       "5         medical_products  0.942643  0.941661  0.943699\n",
       "6        search_and_rescue  0.958933  0.957605   0.96033\n",
       "7                 security  0.970095  0.968189  0.972078\n",
       "8                 military  0.965517  0.965517  0.965517\n",
       "9              child_alone         1         1         1\n",
       "10                   water  0.958696  0.958218  0.959262\n",
       "11                    food  0.942529  0.942581  0.942478\n",
       "12                 shelter  0.926685   0.92538  0.928288\n",
       "13                clothing  0.984135  0.983637  0.984742\n",
       "14                   money  0.967363  0.966935  0.967806\n",
       "15          missing_people  0.982117  0.981102  0.983216\n",
       "16                refugees  0.960202  0.959505   0.96094\n",
       "17                   death  0.961493  0.961591  0.961398\n",
       "18               other_aid  0.808716  0.805336  0.812328\n",
       "19  infrastructure_related  0.893051  0.892005   0.89411\n",
       "20               transport  0.940828  0.938909  0.942936\n",
       "21               buildings   0.94364  0.942349  0.945072\n",
       "22             electricity  0.974084  0.973809  0.974367\n",
       "23                   tools  0.989341  0.988757   0.98993\n",
       "24               hospitals  0.983643  0.982753   0.98459\n",
       "25                   shops  0.990325   0.98996  0.990693\n",
       "26             aid_centers  0.982251  0.980799  0.983827\n",
       "27    other_infrastructure  0.926829  0.924107  0.929661\n",
       "28         weather_related  0.844416  0.843689  0.845438\n",
       "29                  floods   0.93344  0.932604  0.934391\n",
       "30                   storm  0.932772  0.931741  0.934086\n",
       "31                    fire  0.986553  0.986109  0.987031\n",
       "32              earthquake  0.959041  0.958667  0.959567\n",
       "33                    cold  0.977015   0.97664  0.977418\n",
       "34           other_weather  0.921078  0.919855  0.922338\n",
       "35           direct_report  0.823808  0.822117  0.825755\n",
       "36                 related  0.751793  0.750835  0.752975\n",
       "37            genre_direct  0.903182  0.903735   0.90296\n",
       "38              genre_news  0.917733  0.918061   0.91776\n",
       "39            genre_social  0.983265  0.983198  0.983369"
      ]
     },
     "execution_count": 23,
     "metadata": {},
     "output_type": "execute_result"
    }
   ],
   "source": [
    "\n",
    "moc = MultiOutputClassifier(DecisionTreeClassifier())\n",
    "\n",
    "pipeline = Pipeline([\n",
    "    ('vect', CountVectorizer(tokenizer=tokenize)),\n",
    "    ('tfidf', TfidfTransformer()),\n",
    "    ('clf', moc)\n",
    "    ])\n",
    "\n",
    "X_train, X_test, y_train, y_test = train_test_split(X, y)\n",
    "pipeline.fit(X_train.as_matrix(), y_train.as_matrix())\n",
    "\n",
    "y_predicted = pipeline.predict(X_test)\n",
    "results = display_results(y_test, y_predicted)\n",
    "results"
   ]
  },
  {
   "cell_type": "markdown",
   "metadata": {},
   "source": [
    "### 9. Export your model as a pickle file"
   ]
  },
  {
   "cell_type": "code",
   "execution_count": 24,
   "metadata": {},
   "outputs": [],
   "source": [
    "pickle.dump(cv, open('model.pkl', 'wb'))"
   ]
  },
  {
   "cell_type": "markdown",
   "metadata": {},
   "source": [
    "### 10. Use this notebook to complete `train.py`\n",
    "Use the template file attached in the Resources folder to write a script that runs the steps above to create a database and export a model based on a new dataset specified by the user."
   ]
  },
  {
   "cell_type": "code",
   "execution_count": null,
   "metadata": {},
   "outputs": [],
   "source": []
  }
 ],
 "metadata": {
  "kernelspec": {
   "display_name": "Python 3",
   "language": "python",
   "name": "python3"
  },
  "language_info": {
   "codemirror_mode": {
    "name": "ipython",
    "version": 3
   },
   "file_extension": ".py",
   "mimetype": "text/x-python",
   "name": "python",
   "nbconvert_exporter": "python",
   "pygments_lexer": "ipython3",
   "version": "3.7.6"
  }
 },
 "nbformat": 4,
 "nbformat_minor": 2
}
